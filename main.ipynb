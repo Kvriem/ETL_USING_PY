{
 "cells": [
  {
   "cell_type": "code",
   "execution_count": 2,
   "metadata": {},
   "outputs": [],
   "source": [
    "import psycopg2\n",
    "import pandas as pd"
   ]
  },
  {
   "cell_type": "code",
   "execution_count": 40,
   "metadata": {},
   "outputs": [],
   "source": [
    "# Connect to the transactional PostgreSQL database\n",
    "conn_transactional = psycopg2.connect(\n",
    "    host=\"localhost\",\n",
    "    port=\"5433\",\n",
    "    database=\"transactional_db\",\n",
    "    user=\"user\",\n",
    "    password=\"password\"\n",
    ")\n",
    "\n",
    "# Connect to the data warehouse PostgreSQL database\n",
    "conn_dwh = psycopg2.connect(\n",
    "    host=\"localhost\",\n",
    "    port=\"5434\",\n",
    "    database=\"dwh_db\",\n",
    "    user=\"user\",\n",
    "    password=\"password\"\n",
    ")\n"
   ]
  },
  {
   "cell_type": "code",
   "execution_count": 41,
   "metadata": {},
   "outputs": [
    {
     "name": "stdout",
     "output_type": "stream",
     "text": [
      "Connected to both transactional and DWH databases successfully!\n"
     ]
    }
   ],
   "source": [
    "cur_transactional = conn_transactional.cursor()\n",
    "cur_dwh = conn_dwh.cursor()\n",
    "\n",
    "# Print a success message as test\n",
    "print(\"Connected to both transactional and DWH databases successfully!\")"
   ]
  },
  {
   "cell_type": "code",
   "execution_count": 33,
   "metadata": {},
   "outputs": [],
   "source": [
    "# SQL queries to create tables\n",
    "create_users_table = \"\"\"\n",
    "CREATE TABLE IF NOT EXISTS users (\n",
    "    user_id SERIAL PRIMARY KEY,\n",
    "    user_name VARCHAR(50),\n",
    "    email VARCHAR(50) UNIQUE,\n",
    "    wallet_balance NUMERIC(10, 2),\n",
    "    phone_number VARCHAR(20),\n",
    "    address VARCHAR(100)\n",
    ");\n",
    "\"\"\"\n",
    "create_author_table = \"\"\"\n",
    "CREATE TABLE IF NOT EXISTS authors (\n",
    "    author_id SERIAL PRIMARY KEY,\n",
    "    author_name VARCHAR(50),\n",
    "    email VARCHAR(50) UNIQUE,\n",
    "    nationality VARCHAR(50)\n",
    ");\n",
    "\"\"\"\n",
    "create_book_table = \"\"\"\n",
    "CREATE TABLE IF NOT EXISTS books (\n",
    "    book_id SERIAL PRIMARY KEY,\n",
    "    title VARCHAR(100),\n",
    "    publish_date DATE,\n",
    "    isbn VARCHAR(20),\n",
    "    genre VARCHAR(50),\n",
    "    price NUMERIC(10, 2)\n",
    ");\n",
    "\"\"\"\n",
    "create_book_author_table = \"\"\"\n",
    "CREATE TABLE IF NOT EXISTS book_author (\n",
    "    book_id INT,\n",
    "    author_id INT,\n",
    "    CONSTRAINT fk_book_id FOREIGN KEY (book_id) REFERENCES books(book_id),\n",
    "    CONSTRAINT fk_author_id FOREIGN KEY (author_id) REFERENCES authors(author_id),\n",
    "    PRIMARY KEY (book_id, author_id)\n",
    ");\n",
    "\"\"\"\n",
    "create_review_table = \"\"\"\n",
    "CREATE TABLE IF NOT EXISTS reviews (\n",
    "    review_id SERIAL PRIMARY KEY,\n",
    "    user_id INT,\n",
    "    book_id INT,\n",
    "    rate INT CHECK (rate >= 1 AND rate <= 5),\n",
    "    review_text TEXT,\n",
    "    review_date DATE,\n",
    "    FOREIGN KEY (user_id) REFERENCES users(user_id),\n",
    "    FOREIGN KEY (book_id) REFERENCES books(book_id)\n",
    ");\n",
    "\"\"\"\n",
    "create_order_table = \"\"\"\n",
    "CREATE TABLE IF NOT EXISTS orders (\n",
    "    order_id SERIAL PRIMARY KEY,\n",
    "    user_id INT,\n",
    "    order_date DATE,\n",
    "    total_amount NUMERIC(10, 2),\n",
    "    order_created DATE,\n",
    "    order_completed DATE,\n",
    "    FOREIGN KEY (user_id) REFERENCES users(user_id)\n",
    ");\n",
    "\"\"\"\n",
    "create_order_book_table = \"\"\"\n",
    "CREATE TABLE IF NOT EXISTS order_book (\n",
    "    order_id INT,\n",
    "    book_id INT,\n",
    "    quantity INT,\n",
    "    PRIMARY KEY (order_id, book_id),\n",
    "    FOREIGN KEY (order_id) REFERENCES orders(order_id),\n",
    "    FOREIGN KEY (book_id) REFERENCES books(book_id)\n",
    ");\n",
    "\"\"\""
   ]
  },
  {
   "cell_type": "code",
   "execution_count": 34,
   "metadata": {},
   "outputs": [],
   "source": [
    "# Execute the table creation queries on the transacional database\n",
    "cur_transactional.execute(create_users_table)\n",
    "cur_transactional.execute(create_book_table)\n",
    "cur_transactional.execute(create_author_table)\n",
    "cur_transactional.execute(create_book_author_table)\n",
    "cur_transactional.execute(create_review_table)\n",
    "cur_transactional.execute(create_order_table)\n",
    "cur_transactional.execute(create_order_book_table)"
   ]
  },
  {
   "cell_type": "code",
   "execution_count": 35,
   "metadata": {},
   "outputs": [],
   "source": [
    "conn_transactional.commit()"
   ]
  },
  {
   "cell_type": "code",
   "execution_count": 36,
   "metadata": {},
   "outputs": [
    {
     "name": "stdout",
     "output_type": "stream",
     "text": [
      "Star schema tables created successfully in the DWH database!\n"
     ]
    }
   ],
   "source": [
    "try:\n",
    "    # SQL statements to create the star schema tables\n",
    "    create_dim_user = \"\"\"\n",
    "    CREATE TABLE IF NOT EXISTS dim_user (\n",
    "        user_id SERIAL PRIMARY KEY,\n",
    "        user_name VARCHAR(100),\n",
    "        email VARCHAR(100) UNIQUE,\n",
    "        phone_number VARCHAR(20),\n",
    "        address VARCHAR(255)\n",
    "    );\n",
    "    \"\"\"\n",
    "\n",
    "    create_dim_author = \"\"\"\n",
    "    CREATE TABLE IF NOT EXISTS dim_author (\n",
    "        author_id SERIAL PRIMARY KEY,\n",
    "        author_name VARCHAR(100),\n",
    "        nationality VARCHAR(50)\n",
    "    );\n",
    "    \"\"\"\n",
    "\n",
    "    create_dim_book = \"\"\"\n",
    "    CREATE TABLE IF NOT EXISTS dim_book (\n",
    "        book_id SERIAL PRIMARY KEY,\n",
    "        title VARCHAR(255),\n",
    "        author_id INT,\n",
    "        genre VARCHAR(50),\n",
    "        price NUMERIC(10, 2),\n",
    "        publish_date DATE,\n",
    "        FOREIGN KEY (author_id) REFERENCES dim_author(author_id)\n",
    "    );\n",
    "    \"\"\"\n",
    "\n",
    "    create_dim_time = \"\"\"\n",
    "    CREATE TABLE IF NOT EXISTS dim_time (\n",
    "        time_id SERIAL PRIMARY KEY,\n",
    "        date DATE,\n",
    "        year INT,\n",
    "        month INT,\n",
    "        day INT,\n",
    "        quarter INT\n",
    "    );\n",
    "    \"\"\"\n",
    "\n",
    "    create_fact_sales = \"\"\"\n",
    "    CREATE TABLE IF NOT EXISTS fact_sales (\n",
    "        sales_id SERIAL PRIMARY KEY,\n",
    "        book_id INT,\n",
    "        user_id INT,\n",
    "        time_id INT,\n",
    "        quantity_sold INT,\n",
    "        total_amount NUMERIC(10, 2),\n",
    "        FOREIGN KEY (book_id) REFERENCES dim_book(book_id),\n",
    "        FOREIGN KEY (user_id) REFERENCES dim_user(user_id),\n",
    "        FOREIGN KEY (time_id) REFERENCES dim_time(time_id)\n",
    "    );\n",
    "    \"\"\"\n",
    "\n",
    "    # Execute the table creation queries for the star schema\n",
    "    cur_dwh.execute(create_dim_user)\n",
    "    cur_dwh.execute(create_dim_author)\n",
    "    cur_dwh.execute(create_dim_book)\n",
    "    cur_dwh.execute(create_dim_time)\n",
    "    cur_dwh.execute(create_fact_sales)\n",
    "\n",
    "    # Commit the changes\n",
    "    conn_dwh.commit()\n",
    "    print(\"Star schema tables created successfully in the DWH database!\")\n",
    "\n",
    "except Exception as e:\n",
    "    print(f\"Error occurred: {e}\")\n",
    "    conn_dwh.rollback()"
   ]
  },
  {
   "cell_type": "code",
   "execution_count": 37,
   "metadata": {},
   "outputs": [],
   "source": [
    "#alter and edit some columns to fit the data\n",
    "cur_transactional.execute(\"ALTER TABLE authors ALTER COLUMN author_name TYPE VARCHAR(100);\")\n",
    "cur_transactional.execute(\"ALTER TABLE users ALTER COLUMN user_name TYPE VARCHAR(100);\")\n",
    "cur_transactional.execute(\"ALTER TABLE authors ALTER COLUMN email TYPE VARCHAR(100);\")\n",
    "cur_transactional.execute(\"ALTER TABLE books ALTER COLUMN genre TYPE VARCHAR(100);\")\n"
   ]
  },
  {
   "cell_type": "code",
   "execution_count": 39,
   "metadata": {},
   "outputs": [],
   "source": [
    "conn_transactional.close()  \n",
    "conn_dwh.close()"
   ]
  },
  {
   "cell_type": "code",
   "execution_count": null,
   "metadata": {},
   "outputs": [],
   "source": []
  },
  {
   "cell_type": "code",
   "execution_count": null,
   "metadata": {},
   "outputs": [],
   "source": []
  }
 ],
 "metadata": {
  "kernelspec": {
   "display_name": "Python 3",
   "language": "python",
   "name": "python3"
  },
  "language_info": {
   "codemirror_mode": {
    "name": "ipython",
    "version": 3
   },
   "file_extension": ".py",
   "mimetype": "text/x-python",
   "name": "python",
   "nbconvert_exporter": "python",
   "pygments_lexer": "ipython3",
   "version": "3.10.11"
  }
 },
 "nbformat": 4,
 "nbformat_minor": 2
}
